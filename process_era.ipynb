{
 "cells": [
  {
   "cell_type": "code",
   "execution_count": 5,
   "metadata": {},
   "outputs": [],
   "source": [
    "import xarray\n",
    "import matplotlib.pyplot as plt"
   ]
  },
  {
   "cell_type": "code",
   "execution_count": 83,
   "metadata": {},
   "outputs": [],
   "source": [
    "import numpy"
   ]
  },
  {
   "cell_type": "code",
   "execution_count": 2,
   "metadata": {},
   "outputs": [],
   "source": [
    "era = xarray.open_dataset('era5_prec_train.nc')"
   ]
  },
  {
   "cell_type": "code",
   "execution_count": 17,
   "metadata": {},
   "outputs": [
    {
     "data": {
      "text/plain": [
       "<matplotlib.colorbar.Colorbar at 0x7ff9966e0b50>"
      ]
     },
     "execution_count": 17,
     "metadata": {},
     "output_type": "execute_result"
    },
    {
     "data": {
      "image/png": "[encoded data removed]",
      "text/plain": [
       "<Figure size 432x288 with 2 Axes>"
      ]
     },
     "metadata": {
      "needs_background": "light"
     },
     "output_type": "display_data"
    }
   ],
   "source": [
    "plt.contourf(era['tp'].isel(time=26), 40)\n",
    "plt.colorbar()"
   ]
  },
  {
   "cell_type": "code",
   "execution_count": 20,
   "metadata": {},
   "outputs": [
    {
     "data": {
      "text/html": [
       "<div><svg style=\"position: absolute; width: 0; height: 0; overflow: hidden\">\n",
       "<defs>\n",
       "<symbol id=\"icon-database\" viewBox=\"0 0 32 32\">\n",
       "<path d=\"M16 0c-8.837 0-16 2.239-16 5v4c0 2.761 7.163 5 16 5s16-2.239 16-5v-4c0-2.761-7.163-5-16-5z\"></path>\n",
       "<path d=\"M16 17c-8.837 0-16-2.239-16-5v6c0 2.761 7.163 5 16 5s16-2.239 16-5v-6c0 2.761-7.163 5-16 5z\"></path>\n",
       "<path d=\"M16 26c-8.837 0-16-2.239-16-5v6c0 2.761 7.163 5 16 5s16-2.239 16-5v-6c0 2.761-7.163 5-16 5z\"></path>\n",
       "</symbol>\n",
       "<symbol id=\"icon-file-text2\" viewBox=\"0 0 32 32\">\n",
       "<path d=\"M28.681 7.159c-0.694-0.947-1.662-2.053-2.724-3.116s-2.169-2.030-3.116-2.724c-1.612-1.182-2.393-1.319-2.841-1.319h-15.5c-1.378 0-2.5 1.121-2.5 2.5v27c0 1.378 1.122 2.5 2.5 2.5h23c1.378 0 2.5-1.122 2.5-2.5v-19.5c0-0.448-0.137-1.23-1.319-2.841zM24.543 5.457c0.959 0.959 1.712 1.825 2.268 2.543h-4.811v-4.811c0.718 0.556 1.584 1.309 2.543 2.268zM28 29.5c0 0.271-0.229 0.5-0.5 0.5h-23c-0.271 0-0.5-0.229-0.5-0.5v-27c0-0.271 0.229-0.5 0.5-0.5 0 0 15.499-0 15.5 0v7c0 0.552 0.448 1 1 1h7v19.5z\"></path>\n",
       "<path d=\"M23 26h-14c-0.552 0-1-0.448-1-1s0.448-1 1-1h14c0.552 0 1 0.448 1 1s-0.448 1-1 1z\"></path>\n",
       "<path d=\"M23 22h-14c-0.552 0-1-0.448-1-1s0.448-1 1-1h14c0.552 0 1 0.448 1 1s-0.448 1-1 1z\"></path>\n",
       "<path d=\"M23 18h-14c-0.552 0-1-0.448-1-1s0.448-1 1-1h14c0.552 0 1 0.448 1 1s-0.448 1-1 1z\"></path>\n",
       "</symbol>\n",
       "</defs>\n",
       "</svg>\n",
       "<style>/* CSS stylesheet for displaying xarray objects in jupyterlab.\n",
       " *\n",
       " */\n",
       "\n",
       ":root {\n",
       "  --xr-font-color0: var(--jp-content-font-color0, rgba(0, 0, 0, 1));\n",
       "  --xr-font-color2: var(--jp-content-font-color2, rgba(0, 0, 0, 0.54));\n",
       "  --xr-font-color3: var(--jp-content-font-color3, rgba(0, 0, 0, 0.38));\n",
       "  --xr-border-color: var(--jp-border-color2, #e0e0e0);\n",
       "  --xr-disabled-color: var(--jp-layout-color3, #bdbdbd);\n",
       "  --xr-background-color: var(--jp-layout-color0, white);\n",
       "  --xr-background-color-row-even: var(--jp-layout-color1, white);\n",
       "  --xr-background-color-row-odd: var(--jp-layout-color2, #eeeeee);\n",
       "}\n",
       "\n",
       "html[theme=dark],\n",
       "body.vscode-dark {\n",
       "  --xr-font-color0: rgba(255, 255, 255, 1);\n",
       "  --xr-font-color2: rgba(255, 255, 255, 0.54);\n",
       "  --xr-font-color3: rgba(255, 255, 255, 0.38);\n",
       "  --xr-border-color: #1F1F1F;\n",
       "  --xr-disabled-color: #515151;\n",
       "  --xr-background-color: #111111;\n",
       "  --xr-background-color-row-even: #111111;\n",
       "  --xr-background-color-row-odd: #313131;\n",
       "}\n",
       "\n",
       ".xr-wrap {\n",
       "  display: block;\n",
       "  min-width: 300px;\n",
       "  max-width: 700px;\n",
       "}\n",
       "\n",
       ".xr-text-repr-fallback {\n",
       "  /* fallback to plain text repr when CSS is not injected (untrusted notebook) */\n",
       "  display: none;\n",
       "}\n",
       "\n",
       ".xr-header {\n",
       "  padding-top: 6px;\n",
       "  padding-bottom: 6px;\n",
       "  margin-bottom: 4px;\n",
       "  border-bottom: solid 1px var(--xr-border-color);\n",
       "}\n",
       "\n",
       ".xr-header > div,\n",
       ".xr-header > ul {\n",
       "  display: inline;\n",
       "  margin-top: 0;\n",
       "  margin-bottom: 0;\n",
       "}\n",
       "\n",
       ".xr-obj-type,\n",
       ".xr-array-name {\n",
       "  margin-left: 2px;\n",
       "  margin-right: 10px;\n",
       "}\n",
       "\n",
       ".xr-obj-type {\n",
       "  color: var(--xr-font-color2);\n",
       "}\n",
       "\n",
       ".xr-sections {\n",
       "  padding-left: 0 !important;\n",
       "  display: grid;\n",
       "  grid-template-columns: 150px auto auto 1fr 20px 20px;\n",
       "}\n",
       "\n",
       ".xr-section-item {\n",
       "  display: contents;\n",
       "}\n",
       "\n",
       ".xr-section-item input {\n",
       "  display: none;\n",
       "}\n",
       "\n",
       ".xr-section-item input + label {\n",
       "  color: var(--xr-disabled-color);\n",
       "}\n",
       "\n",
       ".xr-section-item input:enabled + label {\n",
       "  cursor: pointer;\n",
       "  color: var(--xr-font-color2);\n",
       "}\n",
       "\n",
       ".xr-section-item input:enabled + label:hover {\n",
       "  color: var(--xr-font-color0);\n",
       "}\n",
       "\n",
       ".xr-section-summary {\n",
       "  grid-column: 1;\n",
       "  color: var(--xr-font-color2);\n",
       "  font-weight: 500;\n",
       "}\n",
       "\n",
       ".xr-section-summary > span {\n",
       "  display: inline-block;\n",
       "  padding-left: 0.5em;\n",
       "}\n",
       "\n",
       ".xr-section-summary-in:disabled + label {\n",
       "  color: var(--xr-font-color2);\n",
       "}\n",
       "\n",
       ".xr-section-summary-in + label:before {\n",
       "  display: inline-block;\n",
       "  content: '►';\n",
       "  font-size: 11px;\n",
       "  width: 15px;\n",
       "  text-align: center;\n",
       "}\n",
       "\n",
       ".xr-section-summary-in:disabled + label:before {\n",
       "  color: var(--xr-disabled-color);\n",
       "}\n",
       "\n",
       ".xr-section-summary-in:checked + label:before {\n",
       "  content: '▼';\n",
       "}\n",
       "\n",
       ".xr-section-summary-in:checked + label > span {\n",
       "  display: none;\n",
       "}\n",
       "\n",
       ".xr-section-summary,\n",
       ".xr-section-inline-details {\n",
       "  padding-top: 4px;\n",
       "  padding-bottom: 4px;\n",
       "}\n",
       "\n",
       ".xr-section-inline-details {\n",
       "  grid-column: 2 / -1;\n",
       "}\n",
       "\n",
       ".xr-section-details {\n",
       "  display: none;\n",
       "  grid-column: 1 / -1;\n",
       "  margin-bottom: 5px;\n",
       "}\n",
       "\n",
       ".xr-section-summary-in:checked ~ .xr-section-details {\n",
       "  display: contents;\n",
       "}\n",
       "\n",
       ".xr-array-wrap {\n",
       "  grid-column: 1 / -1;\n",
       "  display: grid;\n",
       "  grid-template-columns: 20px auto;\n",
       "}\n",
       "\n",
       ".xr-array-wrap > label {\n",
       "  grid-column: 1;\n",
       "  vertical-align: top;\n",
       "}\n",
       "\n",
       ".xr-preview {\n",
       "  color: var(--xr-font-color3);\n",
       "}\n",
       "\n",
       ".xr-array-preview,\n",
       ".xr-array-data {\n",
       "  padding: 0 5px !important;\n",
       "  grid-column: 2;\n",
       "}\n",
       "\n",
       ".xr-array-data,\n",
       ".xr-array-in:checked ~ .xr-array-preview {\n",
       "  display: none;\n",
       "}\n",
       "\n",
       ".xr-array-in:checked ~ .xr-array-data,\n",
       ".xr-array-preview {\n",
       "  display: inline-block;\n",
       "}\n",
       "\n",
       ".xr-dim-list {\n",
       "  display: inline-block !important;\n",
       "  list-style: none;\n",
       "  padding: 0 !important;\n",
       "  margin: 0;\n",
       "}\n",
       "\n",
       ".xr-dim-list li {\n",
       "  display: inline-block;\n",
       "  padding: 0;\n",
       "  margin: 0;\n",
       "}\n",
       "\n",
       ".xr-dim-list:before {\n",
       "  content: '(';\n",
       "}\n",
       "\n",
       ".xr-dim-list:after {\n",
       "  content: ')';\n",
       "}\n",
       "\n",
       ".xr-dim-list li:not(:last-child):after {\n",
       "  content: ',';\n",
       "  padding-right: 5px;\n",
       "}\n",
       "\n",
       ".xr-has-index {\n",
       "  font-weight: bold;\n",
       "}\n",
       "\n",
       ".xr-var-list,\n",
       ".xr-var-item {\n",
       "  display: contents;\n",
       "}\n",
       "\n",
       ".xr-var-item > div,\n",
       ".xr-var-item label,\n",
       ".xr-var-item > .xr-var-name span {\n",
       "  background-color: var(--xr-background-color-row-even);\n",
       "  margin-bottom: 0;\n",
       "}\n",
       "\n",
       ".xr-var-item > .xr-var-name:hover span {\n",
       "  padding-right: 5px;\n",
       "}\n",
       "\n",
       ".xr-var-list > li:nth-child(odd) > div,\n",
       ".xr-var-list > li:nth-child(odd) > label,\n",
       ".xr-var-list > li:nth-child(odd) > .xr-var-name span {\n",
       "  background-color: var(--xr-background-color-row-odd);\n",
       "}\n",
       "\n",
       ".xr-var-name {\n",
       "  grid-column: 1;\n",
       "}\n",
       "\n",
       ".xr-var-dims {\n",
       "  grid-column: 2;\n",
       "}\n",
       "\n",
       ".xr-var-dtype {\n",
       "  grid-column: 3;\n",
       "  text-align: right;\n",
       "  color: var(--xr-font-color2);\n",
       "}\n",
       "\n",
       ".xr-var-preview {\n",
       "  grid-column: 4;\n",
       "}\n",
       "\n",
       ".xr-var-name,\n",
       ".xr-var-dims,\n",
       ".xr-var-dtype,\n",
       ".xr-preview,\n",
       ".xr-attrs dt {\n",
       "  white-space: nowrap;\n",
       "  overflow: hidden;\n",
       "  text-overflow: ellipsis;\n",
       "  padding-right: 10px;\n",
       "}\n",
       "\n",
       ".xr-var-name:hover,\n",
       ".xr-var-dims:hover,\n",
       ".xr-var-dtype:hover,\n",
       ".xr-attrs dt:hover {\n",
       "  overflow: visible;\n",
       "  width: auto;\n",
       "  z-index: 1;\n",
       "}\n",
       "\n",
       ".xr-var-attrs,\n",
       ".xr-var-data {\n",
       "  display: none;\n",
       "  background-color: var(--xr-background-color) !important;\n",
       "  padding-bottom: 5px !important;\n",
       "}\n",
       "\n",
       ".xr-var-attrs-in:checked ~ .xr-var-attrs,\n",
       ".xr-var-data-in:checked ~ .xr-var-data {\n",
       "  display: block;\n",
       "}\n",
       "\n",
       ".xr-var-data > table {\n",
       "  float: right;\n",
       "}\n",
       "\n",
       ".xr-var-name span,\n",
       ".xr-var-data,\n",
       ".xr-attrs {\n",
       "  padding-left: 25px !important;\n",
       "}\n",
       "\n",
       ".xr-attrs,\n",
       ".xr-var-attrs,\n",
       ".xr-var-data {\n",
       "  grid-column: 1 / -1;\n",
       "}\n",
       "\n",
       "dl.xr-attrs {\n",
       "  padding: 0;\n",
       "  margin: 0;\n",
       "  display: grid;\n",
       "  grid-template-columns: 125px auto;\n",
       "}\n",
       "\n",
       ".xr-attrs dt, dd {\n",
       "  padding: 0;\n",
       "  margin: 0;\n",
       "  float: left;\n",
       "  padding-right: 10px;\n",
       "  width: auto;\n",
       "}\n",
       "\n",
       ".xr-attrs dt {\n",
       "  font-weight: normal;\n",
       "  grid-column: 1;\n",
       "}\n",
       "\n",
       ".xr-attrs dt:hover span {\n",
       "  display: inline-block;\n",
       "  background: var(--xr-background-color);\n",
       "  padding-right: 10px;\n",
       "}\n",
       "\n",
       ".xr-attrs dd {\n",
       "  grid-column: 2;\n",
       "  white-space: pre-wrap;\n",
       "  word-break: break-all;\n",
       "}\n",
       "\n",
       ".xr-icon-database,\n",
       ".xr-icon-file-text2 {\n",
       "  display: inline-block;\n",
       "  vertical-align: middle;\n",
       "  width: 1em;\n",
       "  height: 1.5em !important;\n",
       "  stroke-width: 0;\n",
       "  stroke: currentColor;\n",
       "  fill: currentColor;\n",
       "}\n",
       "</style><pre class='xr-text-repr-fallback'>&lt;xarray.DataArray &#x27;tp&#x27; (time: 106488, latitude: 34, longitude: 35)&gt;\n",
       "array([[[0.000000e+00, 0.000000e+00, ..., 4.887581e-06, 1.465902e-05],\n",
       "        [0.000000e+00, 0.000000e+00, ..., 0.000000e+00, 0.000000e+00],\n",
       "        ...,\n",
       "        [9.471085e-04, 1.925491e-04, ..., 2.111197e-04, 0.000000e+00],\n",
       "        [1.984127e-04, 4.574284e-04, ..., 2.111197e-04, 4.496090e-04]],\n",
       "\n",
       "       [[0.000000e+00, 0.000000e+00, ..., 0.000000e+00, 2.931803e-06],\n",
       "        [0.000000e+00, 0.000000e+00, ..., 0.000000e+00, 0.000000e+00],\n",
       "        ...,\n",
       "        [1.348816e-04, 9.891372e-04, ..., 3.899857e-04, 0.000000e+00],\n",
       "        [3.166795e-04, 1.661479e-05, ..., 2.150275e-04, 1.857057e-04]],\n",
       "\n",
       "       ...,\n",
       "\n",
       "       [[0.000000e+00, 0.000000e+00, ..., 5.961955e-05, 0.000000e+00],\n",
       "        [0.000000e+00, 0.000000e+00, ..., 1.045801e-04, 6.059930e-05],\n",
       "        ...,\n",
       "        [7.985421e-04, 1.289202e-03, ..., 2.189390e-04, 8.894503e-05],\n",
       "        [2.355538e-04, 1.485646e-04, ..., 0.000000e+00, 8.795410e-06]],\n",
       "\n",
       "       [[0.000000e+00, 0.000000e+00, ..., 4.202873e-05, 0.000000e+00],\n",
       "        [0.000000e+00, 0.000000e+00, ..., 1.094677e-04, 7.330626e-05],\n",
       "        ...,\n",
       "        [1.265744e-03, 1.954818e-03, ..., 1.788661e-04, 3.225431e-04],\n",
       "        [1.798421e-04, 1.309738e-04, ..., 0.000000e+00, 7.819384e-06]]],\n",
       "      dtype=float32)\n",
       "Coordinates:\n",
       "  * longitude  (longitude) float32 66.0 67.0 68.0 69.0 ... 97.0 98.0 99.0 100.0\n",
       "  * latitude   (latitude) float32 39.0 38.0 37.0 36.0 35.0 ... 9.0 8.0 7.0 6.0\n",
       "  * time       (time) datetime64[ns] 1950-05-01 ... 1978-09-30T23:00:00\n",
       "Attributes:\n",
       "    units:      m\n",
       "    long_name:  Total precipitation</pre><div class='xr-wrap' hidden><div class='xr-header'><div class='xr-obj-type'>xarray.DataArray</div><div class='xr-array-name'>'tp'</div><ul class='xr-dim-list'><li><span class='xr-has-index'>time</span>: 106488</li><li><span class='xr-has-index'>latitude</span>: 34</li><li><span class='xr-has-index'>longitude</span>: 35</li></ul></div><ul class='xr-sections'><li class='xr-section-item'><div class='xr-array-wrap'><input id='section-c1a33605-1db3-4bca-a434-4d1fe895140a' class='xr-array-in' type='checkbox' checked><label for='section-c1a33605-1db3-4bca-a434-4d1fe895140a' title='Show/hide data repr'><svg class='icon xr-icon-database'><use xlink:href='#icon-database'></use></svg></label><div class='xr-array-preview xr-preview'><span>0.0 0.0 5.9619546e-05 4.887581e-06 ... 1.6614795e-05 0.0 7.819384e-06</span></div><div class='xr-array-data'><pre>array([[[0.000000e+00, 0.000000e+00, ..., 4.887581e-06, 1.465902e-05],\n",
       "        [0.000000e+00, 0.000000e+00, ..., 0.000000e+00, 0.000000e+00],\n",
       "        ...,\n",
       "        [9.471085e-04, 1.925491e-04, ..., 2.111197e-04, 0.000000e+00],\n",
       "        [1.984127e-04, 4.574284e-04, ..., 2.111197e-04, 4.496090e-04]],\n",
       "\n",
       "       [[0.000000e+00, 0.000000e+00, ..., 0.000000e+00, 2.931803e-06],\n",
       "        [0.000000e+00, 0.000000e+00, ..., 0.000000e+00, 0.000000e+00],\n",
       "        ...,\n",
       "        [1.348816e-04, 9.891372e-04, ..., 3.899857e-04, 0.000000e+00],\n",
       "        [3.166795e-04, 1.661479e-05, ..., 2.150275e-04, 1.857057e-04]],\n",
       "\n",
       "       ...,\n",
       "\n",
       "       [[0.000000e+00, 0.000000e+00, ..., 5.961955e-05, 0.000000e+00],\n",
       "        [0.000000e+00, 0.000000e+00, ..., 1.045801e-04, 6.059930e-05],\n",
       "        ...,\n",
       "        [7.985421e-04, 1.289202e-03, ..., 2.189390e-04, 8.894503e-05],\n",
       "        [2.355538e-04, 1.485646e-04, ..., 0.000000e+00, 8.795410e-06]],\n",
       "\n",
       "       [[0.000000e+00, 0.000000e+00, ..., 4.202873e-05, 0.000000e+00],\n",
       "        [0.000000e+00, 0.000000e+00, ..., 1.094677e-04, 7.330626e-05],\n",
       "        ...,\n",
       "        [1.265744e-03, 1.954818e-03, ..., 1.788661e-04, 3.225431e-04],\n",
       "        [1.798421e-04, 1.309738e-04, ..., 0.000000e+00, 7.819384e-06]]],\n",
       "      dtype=float32)</pre></div></div></li><li class='xr-section-item'><input id='section-351f663c-1f27-41ef-b2fd-9cecf5ce0c1b' class='xr-section-summary-in' type='checkbox'  checked><label for='section-351f663c-1f27-41ef-b2fd-9cecf5ce0c1b' class='xr-section-summary' >Coordinates: <span>(3)</span></label><div class='xr-section-inline-details'></div><div class='xr-section-details'><ul class='xr-var-list'><li class='xr-var-item'><div class='xr-var-name'><span class='xr-has-index'>longitude</span></div><div class='xr-var-dims'>(longitude)</div><div class='xr-var-dtype'>float32</div><div class='xr-var-preview xr-preview'>66.0 67.0 68.0 ... 98.0 99.0 100.0</div><input id='attrs-fa8f11e7-96fb-47d1-a021-4a66ec8cf38a' class='xr-var-attrs-in' type='checkbox' ><label for='attrs-fa8f11e7-96fb-47d1-a021-4a66ec8cf38a' title='Show/Hide attributes'><svg class='icon xr-icon-file-text2'><use xlink:href='#icon-file-text2'></use></svg></label><input id='data-74bb65ce-6132-4db9-888f-a8cc0e30df1b' class='xr-var-data-in' type='checkbox'><label for='data-74bb65ce-6132-4db9-888f-a8cc0e30df1b' title='Show/Hide data repr'><svg class='icon xr-icon-database'><use xlink:href='#icon-database'></use></svg></label><div class='xr-var-attrs'><dl class='xr-attrs'><dt><span>units :</span></dt><dd>degrees_east</dd><dt><span>long_name :</span></dt><dd>longitude</dd></dl></div><div class='xr-var-data'><pre>array([ 66.,  67.,  68.,  69.,  70.,  71.,  72.,  73.,  74.,  75.,  76.,  77.,\n",
       "        78.,  79.,  80.,  81.,  82.,  83.,  84.,  85.,  86.,  87.,  88.,  89.,\n",
       "        90.,  91.,  92.,  93.,  94.,  95.,  96.,  97.,  98.,  99., 100.],\n",
       "      dtype=float32)</pre></div></li><li class='xr-var-item'><div class='xr-var-name'><span class='xr-has-index'>latitude</span></div><div class='xr-var-dims'>(latitude)</div><div class='xr-var-dtype'>float32</div><div class='xr-var-preview xr-preview'>39.0 38.0 37.0 36.0 ... 8.0 7.0 6.0</div><input id='attrs-01f9ada0-6f67-4549-bbfb-be91baf5f3a6' class='xr-var-attrs-in' type='checkbox' ><label for='attrs-01f9ada0-6f67-4549-bbfb-be91baf5f3a6' title='Show/Hide attributes'><svg class='icon xr-icon-file-text2'><use xlink:href='#icon-file-text2'></use></svg></label><input id='data-cd990556-51d9-4605-8278-cf096b787bb9' class='xr-var-data-in' type='checkbox'><label for='data-cd990556-51d9-4605-8278-cf096b787bb9' title='Show/Hide data repr'><svg class='icon xr-icon-database'><use xlink:href='#icon-database'></use></svg></label><div class='xr-var-attrs'><dl class='xr-attrs'><dt><span>units :</span></dt><dd>degrees_north</dd><dt><span>long_name :</span></dt><dd>latitude</dd></dl></div><div class='xr-var-data'><pre>array([39., 38., 37., 36., 35., 34., 33., 32., 31., 30., 29., 28., 27., 26.,\n",
       "       25., 24., 23., 22., 21., 20., 19., 18., 17., 16., 15., 14., 13., 12.,\n",
       "       11., 10.,  9.,  8.,  7.,  6.], dtype=float32)</pre></div></li><li class='xr-var-item'><div class='xr-var-name'><span class='xr-has-index'>time</span></div><div class='xr-var-dims'>(time)</div><div class='xr-var-dtype'>datetime64[ns]</div><div class='xr-var-preview xr-preview'>1950-05-01 ... 1978-09-30T23:00:00</div><input id='attrs-92221195-5b8b-437b-bafe-e59f36611b49' class='xr-var-attrs-in' type='checkbox' ><label for='attrs-92221195-5b8b-437b-bafe-e59f36611b49' title='Show/Hide attributes'><svg class='icon xr-icon-file-text2'><use xlink:href='#icon-file-text2'></use></svg></label><input id='data-f66088d8-f128-4783-9adf-a86a93abb431' class='xr-var-data-in' type='checkbox'><label for='data-f66088d8-f128-4783-9adf-a86a93abb431' title='Show/Hide data repr'><svg class='icon xr-icon-database'><use xlink:href='#icon-database'></use></svg></label><div class='xr-var-attrs'><dl class='xr-attrs'><dt><span>long_name :</span></dt><dd>time</dd></dl></div><div class='xr-var-data'><pre>array([&#x27;1950-05-01T00:00:00.000000000&#x27;, &#x27;1950-05-01T01:00:00.000000000&#x27;,\n",
       "       &#x27;1950-05-01T02:00:00.000000000&#x27;, ..., &#x27;1978-09-30T21:00:00.000000000&#x27;,\n",
       "       &#x27;1978-09-30T22:00:00.000000000&#x27;, &#x27;1978-09-30T23:00:00.000000000&#x27;],\n",
       "      dtype=&#x27;datetime64[ns]&#x27;)</pre></div></li></ul></div></li><li class='xr-section-item'><input id='section-4fe68109-9fac-425e-a8c5-afcb4b5d5126' class='xr-section-summary-in' type='checkbox'  checked><label for='section-4fe68109-9fac-425e-a8c5-afcb4b5d5126' class='xr-section-summary' >Attributes: <span>(2)</span></label><div class='xr-section-inline-details'></div><div class='xr-section-details'><dl class='xr-attrs'><dt><span>units :</span></dt><dd>m</dd><dt><span>long_name :</span></dt><dd>Total precipitation</dd></dl></div></li></ul></div></div>"
      ],
      "text/plain": [
       "<xarray.DataArray 'tp' (time: 106488, latitude: 34, longitude: 35)>\n",
       "array([[[0.000000e+00, 0.000000e+00, ..., 4.887581e-06, 1.465902e-05],\n",
       "        [0.000000e+00, 0.000000e+00, ..., 0.000000e+00, 0.000000e+00],\n",
       "        ...,\n",
       "        [9.471085e-04, 1.925491e-04, ..., 2.111197e-04, 0.000000e+00],\n",
       "        [1.984127e-04, 4.574284e-04, ..., 2.111197e-04, 4.496090e-04]],\n",
       "\n",
       "       [[0.000000e+00, 0.000000e+00, ..., 0.000000e+00, 2.931803e-06],\n",
       "        [0.000000e+00, 0.000000e+00, ..., 0.000000e+00, 0.000000e+00],\n",
       "        ...,\n",
       "        [1.348816e-04, 9.891372e-04, ..., 3.899857e-04, 0.000000e+00],\n",
       "        [3.166795e-04, 1.661479e-05, ..., 2.150275e-04, 1.857057e-04]],\n",
       "\n",
       "       ...,\n",
       "\n",
       "       [[0.000000e+00, 0.000000e+00, ..., 5.961955e-05, 0.000000e+00],\n",
       "        [0.000000e+00, 0.000000e+00, ..., 1.045801e-04, 6.059930e-05],\n",
       "        ...,\n",
       "        [7.985421e-04, 1.289202e-03, ..., 2.189390e-04, 8.894503e-05],\n",
       "        [2.355538e-04, 1.485646e-04, ..., 0.000000e+00, 8.795410e-06]],\n",
       "\n",
       "       [[0.000000e+00, 0.000000e+00, ..., 4.202873e-05, 0.000000e+00],\n",
       "        [0.000000e+00, 0.000000e+00, ..., 1.094677e-04, 7.330626e-05],\n",
       "        ...,\n",
       "        [1.265744e-03, 1.954818e-03, ..., 1.788661e-04, 3.225431e-04],\n",
       "        [1.798421e-04, 1.309738e-04, ..., 0.000000e+00, 7.819384e-06]]],\n",
       "      dtype=float32)\n",
       "Coordinates:\n",
       "  * longitude  (longitude) float32 66.0 67.0 68.0 69.0 ... 97.0 98.0 99.0 100.0\n",
       "  * latitude   (latitude) float32 39.0 38.0 37.0 36.0 35.0 ... 9.0 8.0 7.0 6.0\n",
       "  * time       (time) datetime64[ns] 1950-05-01 ... 1978-09-30T23:00:00\n",
       "Attributes:\n",
       "    units:      m\n",
       "    long_name:  Total precipitation"
      ]
     },
     "execution_count": 20,
     "metadata": {},
     "output_type": "execute_result"
    }
   ],
   "source": [
    "era['tp']"
   ]
  },
  {
   "cell_type": "code",
   "execution_count": 34,
   "metadata": {},
   "outputs": [],
   "source": [
    "summed = era['tp'].resample(time='D').sum().rename({'latitude': 'lat', 'longitude': 'lon'})"
   ]
  },
  {
   "cell_type": "code",
   "execution_count": 35,
   "metadata": {},
   "outputs": [
    {
     "data": {
      "text/plain": [
       "<matplotlib.contour.QuadContourSet at 0x7ff977a56670>"
      ]
     },
     "execution_count": 35,
     "metadata": {},
     "output_type": "execute_result"
    },
    {
     "data": {
      "image/png": "[encoded data removed]",
      "text/plain": [
       "<Figure size 432x288 with 1 Axes>"
      ]
     },
     "metadata": {
      "needs_background": "light"
     },
     "output_type": "display_data"
    }
   ],
   "source": [
    "plt.contourf(summed.isel(time=40), 60)"
   ]
  },
  {
   "cell_type": "code",
   "execution_count": 37,
   "metadata": {},
   "outputs": [],
   "source": [
    "summed2 = summed.reindex(lat=summed.lat[::-1])"
   ]
  },
  {
   "cell_type": "code",
   "execution_count": 46,
   "metadata": {},
   "outputs": [],
   "source": [
    "clim = summed2.loc[(summed2.time.dt.month <= 9) & (summed2.time.dt.month >= 5)]"
   ]
  },
  {
   "cell_type": "code",
   "execution_count": 49,
   "metadata": {},
   "outputs": [],
   "source": [
    "clim_grouped = clim.assign_coords(dayofyear=clim.time.dt.strftime(\"%m-%d\")).groupby('dayofyear')"
   ]
  },
  {
   "cell_type": "code",
   "execution_count": 50,
   "metadata": {},
   "outputs": [],
   "source": [
    "clim_mean = clim_grouped.mean()"
   ]
  },
  {
   "cell_type": "code",
   "execution_count": 59,
   "metadata": {},
   "outputs": [
    {
     "data": {
      "text/plain": [
       "<matplotlib.contour.QuadContourSet at 0x7ff96923ef70>"
      ]
     },
     "execution_count": 59,
     "metadata": {},
     "output_type": "execute_result"
    },
    {
     "data": {
      "image/png": "[encoded data removed]",
      "text/plain": [
       "<Figure size 432x288 with 1 Axes>"
      ]
     },
     "metadata": {
      "needs_background": "light"
     },
     "output_type": "display_data"
    }
   ],
   "source": [
    "plt.contourf(clim_mean.isel(dayofyear=50), 100)"
   ]
  },
  {
   "cell_type": "code",
   "execution_count": 64,
   "metadata": {},
   "outputs": [],
   "source": [
    "(clim_grouped - clim_mean).to_netcdf('era5_anomalies.nc')"
   ]
  },
  {
   "cell_type": "code",
   "execution_count": 61,
   "metadata": {},
   "outputs": [],
   "source": [
    "mask_lowres = xarray.open_dataset('mask_lowres.h5')"
   ]
  },
  {
   "cell_type": "code",
   "execution_count": 65,
   "metadata": {},
   "outputs": [],
   "source": [
    "anomalies = clim_grouped - clim_mean"
   ]
  },
  {
   "cell_type": "code",
   "execution_count": 73,
   "metadata": {},
   "outputs": [
    {
     "data": {
      "text/plain": [
       "<matplotlib.contour.QuadContourSet at 0x7ff8a7b29cd0>"
      ]
     },
     "execution_count": 73,
     "metadata": {},
     "output_type": "execute_result"
    },
    {
     "data": {
      "image/png": "[encoded data removed]",
      "text/plain": [
       "<Figure size 432x288 with 1 Axes>"
      ]
     },
     "metadata": {
      "needs_background": "light"
     },
     "output_type": "display_data"
    }
   ],
   "source": [
    "plt.contourf(anomalies.isel(time=90), 100)"
   ]
  },
  {
   "cell_type": "code",
   "execution_count": 89,
   "metadata": {},
   "outputs": [
    {
     "data": {
      "text/plain": [
       "<matplotlib.contour.QuadContourSet at 0x7ff8a5f78a00>"
      ]
     },
     "execution_count": 89,
     "metadata": {},
     "output_type": "execute_result"
    },
    {
     "data": {
      "image/png": "[encoded data removed]",
      "text/plain": [
       "<Figure size 432x288 with 1 Axes>"
      ]
     },
     "metadata": {
      "needs_background": "light"
     },
     "output_type": "display_data"
    }
   ],
   "source": [
    "c = clim_mean.isel(dayofyear=10).values\n",
    "#c[~mask_lowres['mask']] = numpy.nan\n",
    "plt.contourf(c, 100)"
   ]
  },
  {
   "cell_type": "code",
   "execution_count": 74,
   "metadata": {},
   "outputs": [],
   "source": [
    "clim_mean.to_netcdf('clim_mean_era5.nc')"
   ]
  },
  {
   "cell_type": "code",
   "execution_count": 110,
   "metadata": {},
   "outputs": [],
   "source": [
    "x = anomalies.stack(stacked=['lat', 'lon']).values"
   ]
  },
  {
   "cell_type": "code",
   "execution_count": 119,
   "metadata": {},
   "outputs": [
    {
     "data": {
      "text/plain": [
       "array([0., 0., 0., ..., 0., 0., 0.], dtype=float32)"
      ]
     },
     "execution_count": 119,
     "metadata": {},
     "output_type": "execute_result"
    }
   ],
   "source": [
    "sum(x.reshape(29, 153, 1190)[0, :, :] - test)"
   ]
  },
  {
   "cell_type": "code",
   "execution_count": 116,
   "metadata": {},
   "outputs": [],
   "source": [
    "test = anomalies.stack(stacked=['lat', 'lon']).sel(time=anomalies.time.dt.year==1950).values"
   ]
  },
  {
   "cell_type": "code",
   "execution_count": null,
   "metadata": {},
   "outputs": [],
   "source": []
  }
 ],
 "metadata": {
  "kernelspec": {
   "display_name": "Python 3 (ipykernel)",
   "language": "python",
   "name": "python3"
  },
  "language_info": {
   "codemirror_mode": {
    "name": "ipython",
    "version": 3
   },
   "file_extension": ".py",
   "mimetype": "text/x-python",
   "name": "python",
   "nbconvert_exporter": "python",
   "pygments_lexer": "ipython3",
   "version": "3.9.15"
  }
 },
 "nbformat": 4,
 "nbformat_minor": 4
}
